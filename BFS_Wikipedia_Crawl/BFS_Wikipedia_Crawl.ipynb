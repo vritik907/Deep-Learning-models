{
 "cells": [
  {
   "cell_type": "markdown",
   "id": "f50b58d1",
   "metadata": {},
   "source": [
    "# BFS Crawl on Wikipedia\n",
    "This notebook performs a **Breadth-First Search (BFS)** crawl starting from a Wikipedia article.\n",
    "- Uses `requests` and `BeautifulSoup` to fetch and parse HTML.\n",
    "- Restricts depth to avoid infinite crawling.\n",
    "- Stores visited links and page titles."
   ]
  },
  {
   "cell_type": "code",
   "execution_count": 1,
   "id": "6f84a0b6",
   "metadata": {},
   "outputs": [],
   "source": [
    "import requests\n",
    "from bs4 import BeautifulSoup\n",
    "from collections import deque\n",
    "import pandas as pd"
   ]
  },
  {
   "cell_type": "code",
   "execution_count": 2,
   "id": "735e3bbf",
   "metadata": {},
   "outputs": [],
   "source": [
    "def get_wiki_links(url):\n",
    "    \"\"\"Fetch all valid Wikipedia article links from a given page\"\"\"\n",
    "    try:\n",
    "        response = requests.get(url)\n",
    "        if response.status_code != 200:\n",
    "            return []\n",
    "        soup = BeautifulSoup(response.text, 'html.parser')\n",
    "        links = []\n",
    "        for link in soup.select('a[href^=\"/wiki/\"]'):\n",
    "            href = link.get('href')\n",
    "            # Filter out special pages (like Help:, Category:, File:)\n",
    "            if ':' not in href:\n",
    "                links.append(\"https://en.wikipedia.org\" + href)\n",
    "        return list(set(links))\n",
    "    except Exception as e:\n",
    "        print(\"Error:\", e)\n",
    "        return []"
   ]
  },
  {
   "cell_type": "code",
   "execution_count": 3,
   "id": "d605c936",
   "metadata": {},
   "outputs": [],
   "source": [
    "def bfs_crawl(start_url, max_depth=2, max_pages=30):\n",
    "    visited = set()\n",
    "    queue = deque([(start_url, 0)])\n",
    "    results = []\n",
    "\n",
    "    while queue and len(visited) < max_pages:\n",
    "        url, depth = queue.popleft()\n",
    "        if url in visited or depth > max_depth:\n",
    "            continue\n",
    "        visited.add(url)\n",
    "\n",
    "        # Fetch page\n",
    "        try:\n",
    "            response = requests.get(url)\n",
    "            soup = BeautifulSoup(response.text, 'html.parser')\n",
    "            title = soup.find('h1').get_text() if soup.find('h1') else \"No Title\"\n",
    "            results.append({\"URL\": url, \"Title\": title, \"Depth\": depth})\n",
    "\n",
    "            print(f\"[Depth {depth}] {title}\")\n",
    "\n",
    "            # Add children links\n",
    "            if depth < max_depth:\n",
    "                for link in soup.select('a[href^=\"/wiki/\"]'):\n",
    "                    href = link.get('href')\n",
    "                    if ':' not in href:\n",
    "                        full_url = \"https://en.wikipedia.org\" + href\n",
    "                        if full_url not in visited:\n",
    "                            queue.append((full_url, depth+1))\n",
    "        except Exception as e:\n",
    "            print(\"Failed to crawl:\", url, \"Error:\", e)\n",
    "\n",
    "    return pd.DataFrame(results)"
   ]
  },
  {
   "cell_type": "code",
   "execution_count": 4,
   "id": "9d575a34",
   "metadata": {},
   "outputs": [
    {
     "name": "stdout",
     "output_type": "stream",
     "text": [
      "[Depth 0] No Title\n"
     ]
    },
    {
     "name": "stderr",
     "output_type": "stream",
     "text": [
      "C:\\Users\\ritik\\AppData\\Local\\Temp\\ipykernel_15676\\2573551900.py:15: MarkupResemblesLocatorWarning: The input looks more like a filename than markup. You may want to open this file and pass the filehandle into Beautiful Soup.\n",
      "  soup = BeautifulSoup(response.text, 'html.parser')\n"
     ]
    },
    {
     "data": {
      "text/html": [
       "<div>\n",
       "<style scoped>\n",
       "    .dataframe tbody tr th:only-of-type {\n",
       "        vertical-align: middle;\n",
       "    }\n",
       "\n",
       "    .dataframe tbody tr th {\n",
       "        vertical-align: top;\n",
       "    }\n",
       "\n",
       "    .dataframe thead th {\n",
       "        text-align: right;\n",
       "    }\n",
       "</style>\n",
       "<table border=\"1\" class=\"dataframe\">\n",
       "  <thead>\n",
       "    <tr style=\"text-align: right;\">\n",
       "      <th></th>\n",
       "      <th>URL</th>\n",
       "      <th>Title</th>\n",
       "      <th>Depth</th>\n",
       "    </tr>\n",
       "  </thead>\n",
       "  <tbody>\n",
       "    <tr>\n",
       "      <th>0</th>\n",
       "      <td>https://en.wikipedia.org/wiki/Artificial_intel...</td>\n",
       "      <td>No Title</td>\n",
       "      <td>0</td>\n",
       "    </tr>\n",
       "  </tbody>\n",
       "</table>\n",
       "</div>"
      ],
      "text/plain": [
       "                                                 URL     Title  Depth\n",
       "0  https://en.wikipedia.org/wiki/Artificial_intel...  No Title      0"
      ]
     },
     "execution_count": 4,
     "metadata": {},
     "output_type": "execute_result"
    }
   ],
   "source": [
    "# Run BFS starting from the 'Artificial Intelligence' Wikipedia page\n",
    "start_page = \"https://en.wikipedia.org/wiki/Artificial_intelligence\"\n",
    "df = bfs_crawl(start_page, max_depth=1, max_pages=15)\n",
    "df.head()"
   ]
  },
  {
   "cell_type": "code",
   "execution_count": null,
   "id": "4ec3bb0a-3599-43cb-ba6d-f3be34068cc7",
   "metadata": {},
   "outputs": [],
   "source": []
  }
 ],
 "metadata": {
  "kernelspec": {
   "display_name": "Python 3.12",
   "language": "python",
   "name": "python312"
  },
  "language_info": {
   "codemirror_mode": {
    "name": "ipython",
    "version": 3
   },
   "file_extension": ".py",
   "mimetype": "text/x-python",
   "name": "python",
   "nbconvert_exporter": "python",
   "pygments_lexer": "ipython3",
   "version": "3.12.2"
  }
 },
 "nbformat": 4,
 "nbformat_minor": 5
}
